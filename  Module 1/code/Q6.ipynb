{
 "cells": [
  {
   "cell_type": "code",
   "execution_count": 74,
   "metadata": {},
   "outputs": [],
   "source": [
    "import json\n",
    "import numpy as np\n",
    "import pandas as pd\n",
    "from difflib import SequenceMatcher\n",
    "from collections import OrderedDict \n",
    "import requests \n",
    "import csv\n"
   ]
  },
  {
   "cell_type": "code",
   "execution_count": 75,
   "metadata": {},
   "outputs": [],
   "source": [
    "reader = csv.DictReader(open('district-id.csv'))\n",
    "\n",
    "districtId = {}\n",
    "for row in reader:\n",
    "    key = row.pop('districtname')\n",
    "    districtId[key] = list(row.values())[0]"
   ]
  },
  {
   "cell_type": "code",
   "execution_count": 76,
   "metadata": {},
   "outputs": [],
   "source": [
    "casesWeek = {}\n",
    "reader = csv.DictReader(open('cases-week.csv')) \n",
    "for row in reader:\n",
    "    key = row.pop('districtid')\n",
    "    if(key not in (casesWeek)):\n",
    "        casesWeek[key] = {}\n",
    "    casesWeek[key][list(row.values())[0]] = list(row.values())[1] \n",
    "\n",
    "casesMonth = {}\n",
    "reader = csv.DictReader(open('cases-month.csv')) \n",
    "for row in reader:\n",
    "    key = row.pop('districtid')\n",
    "\n",
    "    if(key not in (casesMonth)):\n",
    "        casesMonth[key] = {}\n",
    "    casesMonth[key][list(row.values())[0]] = list(row.values())[1] \n",
    "    \n",
    "casesOverall = {}\n",
    "reader = csv.DictReader(open('cases-overall.csv')) \n",
    "for row in reader:\n",
    "    key = row.pop('districtid')\n",
    "    if(key not in (casesOverall)):\n",
    "        casesOverall[key] = {}\n",
    "    casesOverall[key][list(row.values())[0]] = list(row.values())[1] \n",
    "    \n"
   ]
  },
  {
   "cell_type": "code",
   "execution_count": 77,
   "metadata": {},
   "outputs": [],
   "source": [
    "neighborWeek = {}\n",
    "reader = csv.DictReader(open('neighbor-week.csv')) \n",
    "for row in reader:\n",
    "    key = row.pop('districtid')\n",
    "    if(key not in (neighborWeek)):\n",
    "        neighborWeek[key] = {}\n",
    "    neighborWeek[key][list(row.values())[0]] = {'neighbormean':list(row.values())[1],'neighborstdev':list(row.values())[2]}\n",
    "neighborMonth = {}\n",
    "reader = csv.DictReader(open('neighbor-month.csv')) \n",
    "for row in reader:\n",
    "    key = row.pop('districtid')\n",
    "\n",
    "    if(key not in (neighborMonth)):\n",
    "        neighborMonth[key] = {}\n",
    "    neighborMonth[key][list(row.values())[0]] = {'neighbormean':list(row.values())[1],'neighborstdev':list(row.values())[2]}\n",
    "    \n",
    "neighborOverall = {}\n",
    "reader = csv.DictReader(open('neighbor-overall.csv')) \n",
    "for row in reader:\n",
    "    key = row.pop('districtid')\n",
    "    if(key not in (neighborOverall)):\n",
    "        neighborOverall[key] = {}\n",
    "    neighborOverall[key][list(row.values())[0]] = {'neighbormean':list(row.values())[1],'neighborstdev':list(row.values())[2]}"
   ]
  },
  {
   "cell_type": "code",
   "execution_count": 78,
   "metadata": {},
   "outputs": [],
   "source": [
    "stateWeek = {}\n",
    "reader = csv.DictReader(open('state-week.csv')) \n",
    "for row in reader:\n",
    "    key = row.pop('districtid')\n",
    "    if(key not in (stateWeek)):\n",
    "        stateWeek[key] = {}\n",
    "    stateWeek[key][list(row.values())[0]] = {'statemean':list(row.values())[1],'statestdev':list(row.values())[2]}\n",
    "\n",
    "stateMonth = {}\n",
    "reader = csv.DictReader(open('state-month.csv')) \n",
    "for row in reader:\n",
    "    key = row.pop('districtid')\n",
    "\n",
    "    if(key not in (stateMonth)):\n",
    "        stateMonth[key] = {}\n",
    "    stateMonth[key][list(row.values())[0]] = {'statemean':list(row.values())[1],'statestdev':list(row.values())[2]}\n",
    "    \n",
    "stateOverall = {}\n",
    "reader = csv.DictReader(open('state-overall.csv')) \n",
    "for row in reader:\n",
    "    key = row.pop('districtid')\n",
    "    if(key not in (stateOverall)):\n",
    "        stateOverall[key] = {}\n",
    "    stateOverall[key][list(row.values())[0]] = {'statemean':list(row.values())[1],'statestdev':list(row.values())[2]}"
   ]
  },
  {
   "cell_type": "code",
   "execution_count": 79,
   "metadata": {},
   "outputs": [],
   "source": [
    "zscoreWeek = []\n",
    "for dId in districtId.values():\n",
    "    if dId in neighborWeek:\n",
    "        for week in neighborWeek[dId]:\n",
    "            neighborzscore = 0\n",
    "            statezscore = 0\n",
    "            \n",
    "            if float(neighborWeek[dId][week]['neighborstdev']):\n",
    "                neighborzscore = (float(casesWeek[dId][week]) - float(neighborWeek[dId][week]['neighbormean']))/float(neighborWeek[dId][week]['neighborstdev'])\n",
    "                \n",
    "            if float(stateWeek[dId][week]['statestdev']):  \n",
    "                statezscore = (float(casesWeek[dId][week]) - float(stateWeek[dId][week]['statemean']))/float(stateWeek[dId][week]['statestdev'])\n",
    "                \n",
    "            zscoreWeek.append({'districtid':dId ,'timeid': week,'neighborhoodzscore':  round(neighborzscore,2),'statezscore': round(statezscore,2)})\n",
    "            \n",
    "            \n",
    "zscoreMonth = []\n",
    "for dId in districtId.values():\n",
    "    if dId in neighborMonth:\n",
    "        for month in neighborMonth[dId]:\n",
    "            neighborzscore = 0\n",
    "            statezscore = 0\n",
    "            \n",
    "            if float(neighborMonth[dId][month]['neighborstdev']):\n",
    "                neighborzscore = (float(casesMonth[dId][month]) - float(neighborMonth[dId][month]['neighbormean']))/float(neighborMonth[dId][month]['neighborstdev'])\n",
    "                \n",
    "            if float(stateMonth[dId][month]['statestdev']):  \n",
    "                statezscore = (float(casesMonth[dId][month]) - float(stateMonth[dId][month]['statemean']))/float(stateMonth[dId][month]['statestdev'])\n",
    "                \n",
    "            zscoreMonth.append({'districtid':dId ,'timeid': month,'neighborhoodzscore':  round(neighborzscore,2),'statezscore': round(statezscore,2)})\n",
    "            \n",
    "\n",
    "zscoreOverall = []\n",
    "for dId in districtId.values():\n",
    "    if dId in neighborOverall:\n",
    "        for overall in neighborOverall[dId]:\n",
    "            neighborzscore = 0\n",
    "            statezscore = 0\n",
    "            \n",
    "            if float(neighborOverall[dId][overall]['neighborstdev']):\n",
    "                neighborzscore = (float(casesOverall[dId][overall]) - float(neighborOverall[dId][overall]['neighbormean']))/float(neighborOverall[dId][overall]['neighborstdev'])\n",
    "                \n",
    "            if float(stateOverall[dId][overall]['statestdev']):  \n",
    "                statezscore = (float(casesOverall[dId][overall]) - float(stateOverall[dId][overall]['statemean']))/float(stateOverall[dId][overall]['statestdev'])\n",
    "                \n",
    "            zscoreOverall.append({'districtid':dId ,'timeid': overall,'neighborhoodzscore': round(neighborzscore,2),'statezscore': round(statezscore,2)})\n",
    "            \n"
   ]
  },
  {
   "cell_type": "code",
   "execution_count": 80,
   "metadata": {},
   "outputs": [],
   "source": [
    "dfWeek = pd.DataFrame(zscoreWeek) \n",
    "dfWeek.to_csv (r'zscore-week.csv', index = False, header=True)"
   ]
  },
  {
   "cell_type": "code",
   "execution_count": 81,
   "metadata": {},
   "outputs": [],
   "source": [
    "dfMonth = pd.DataFrame(zscoreMonth) \n",
    "dfMonth.to_csv (r'zscore-month.csv', index = False, header=True)"
   ]
  },
  {
   "cell_type": "code",
   "execution_count": 82,
   "metadata": {},
   "outputs": [],
   "source": [
    "dfOverall = pd.DataFrame(zscoreOverall) \n",
    "dfOverall.to_csv (r'zscore-overall.csv', index = False, header=True)"
   ]
  },
  {
   "cell_type": "code",
   "execution_count": null,
   "metadata": {},
   "outputs": [],
   "source": []
  },
  {
   "cell_type": "code",
   "execution_count": null,
   "metadata": {},
   "outputs": [],
   "source": []
  },
  {
   "cell_type": "code",
   "execution_count": null,
   "metadata": {},
   "outputs": [],
   "source": []
  },
  {
   "cell_type": "code",
   "execution_count": null,
   "metadata": {},
   "outputs": [],
   "source": []
  },
  {
   "cell_type": "code",
   "execution_count": null,
   "metadata": {},
   "outputs": [],
   "source": []
  },
  {
   "cell_type": "code",
   "execution_count": null,
   "metadata": {},
   "outputs": [],
   "source": []
  },
  {
   "cell_type": "code",
   "execution_count": null,
   "metadata": {},
   "outputs": [],
   "source": []
  }
 ],
 "metadata": {
  "kernelspec": {
   "display_name": "Python 3",
   "language": "python",
   "name": "python3"
  },
  "language_info": {
   "codemirror_mode": {
    "name": "ipython",
    "version": 3
   },
   "file_extension": ".py",
   "mimetype": "text/x-python",
   "name": "python",
   "nbconvert_exporter": "python",
   "pygments_lexer": "ipython3",
   "version": "3.7.6"
  }
 },
 "nbformat": 4,
 "nbformat_minor": 4
}
