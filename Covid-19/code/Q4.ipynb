{
 "cells": [
  {
   "cell_type": "code",
   "execution_count": 51,
   "metadata": {},
   "outputs": [],
   "source": [
    "import json\n",
    "import numpy as np\n",
    "import os\n",
    "import pandas as pd\n",
    "from difflib import SequenceMatcher\n",
    "from collections import OrderedDict \n",
    "import requests \n",
    "import csv\n",
    "\n",
    "f = open('neighbor-districts-modified.json') \n",
    "neighbourData = json.load(f) "
   ]
  },
  {
   "cell_type": "code",
   "execution_count": null,
   "metadata": {},
   "outputs": [],
   "source": []
  },
  {
   "cell_type": "code",
   "execution_count": 52,
   "metadata": {},
   "outputs": [],
   "source": [
    "reader = csv.DictReader(open('district-id.csv'))\n",
    "\n",
    "districtId = {}\n",
    "for row in reader:\n",
    "    key = row.pop('districtname')\n",
    "    districtId[key] = list(row.values())[0]\n"
   ]
  },
  {
   "cell_type": "code",
   "execution_count": 53,
   "metadata": {},
   "outputs": [],
   "source": [
    "casesWeek = {}\n",
    "reader = csv.DictReader(open('cases-week.csv')) \n",
    "for row in reader:\n",
    "    key = row.pop('districtid')\n",
    "    if(key not in (casesWeek)):\n",
    "        casesWeek[key] = {}\n",
    "    casesWeek[key][list(row.values())[0]] = list(row.values())[1] "
   ]
  },
  {
   "cell_type": "code",
   "execution_count": null,
   "metadata": {},
   "outputs": [],
   "source": []
  },
  {
   "cell_type": "code",
   "execution_count": 54,
   "metadata": {},
   "outputs": [],
   "source": [
    "casesMonth = {}\n",
    "reader = csv.DictReader(open('cases-month.csv')) \n",
    "for row in reader:\n",
    "    key = row.pop('districtid')\n",
    "\n",
    "    if(key not in (casesMonth)):\n",
    "        casesMonth[key] = {}\n",
    "    casesMonth[key][list(row.values())[0]] = list(row.values())[1] "
   ]
  },
  {
   "cell_type": "code",
   "execution_count": 55,
   "metadata": {},
   "outputs": [],
   "source": [
    "casesOverall = {}\n",
    "reader = csv.DictReader(open('cases-overall.csv')) \n",
    "for row in reader:\n",
    "    key = row.pop('districtid')\n",
    "    if(key not in (casesOverall)):\n",
    "        casesOverall[key] = {}\n",
    "    casesOverall[key][list(row.values())[0]] = list(row.values())[1] "
   ]
  },
  {
   "cell_type": "code",
   "execution_count": 56,
   "metadata": {},
   "outputs": [],
   "source": [
    "neighborWeek = []\n",
    "\n",
    "for district in neighbourData:\n",
    "    dId = districtId[district]\n",
    "    if dId in casesWeek:\n",
    "        for week in casesWeek[dId]:\n",
    "            cases = []\n",
    "            for neighbor in neighbourData[district]:\n",
    "                if neighbor in districtId:\n",
    "                    if districtId[neighbor] in casesWeek:\n",
    "                        if week in casesWeek[districtId[neighbor]]:\n",
    "                            cases.append(int(casesWeek[districtId[neighbor]][week]))\n",
    "            mean = 0\n",
    "            stdev = 0\n",
    "            if(len(cases)):\n",
    "                mean = sum(cases) / len(cases) \n",
    "                variance = sum([((x - mean) ** 2) for x in cases]) / len(cases) \n",
    "                stdev = variance ** 0.5\n",
    "                \n",
    "            neighborWeek.append({'districtid':dId ,'timeid': week,'neighbormean': round(mean, 2),'neighborstdev': round(stdev, 2)})"
   ]
  },
  {
   "cell_type": "code",
   "execution_count": 57,
   "metadata": {},
   "outputs": [],
   "source": [
    "neighborMonth = []\n",
    "\n",
    "for district in neighbourData:\n",
    "    dId = districtId[district]\n",
    "    if dId in casesMonth:\n",
    "        for month in casesMonth[dId]:\n",
    "            cases = []\n",
    "            for neighbor in neighbourData[district]:\n",
    "                if neighbor in districtId:\n",
    "                    if districtId[neighbor] in casesMonth:\n",
    "                        if month in casesMonth[districtId[neighbor]]:\n",
    "                            cases.append(int(casesMonth[districtId[neighbor]][month]))\n",
    "            mean = 0\n",
    "            stdev = 0\n",
    "            if(len(cases)):\n",
    "                mean = sum(cases) / len(cases) \n",
    "                variance = sum([((x - mean) ** 2) for x in cases]) / len(cases) \n",
    "                stdev = variance ** 0.5\n",
    "                \n",
    "            neighborMonth.append({'districtid':dId ,'timeid': month,'neighbormean': round(mean, 2),'neighborstdev': round(stdev, 2)})"
   ]
  },
  {
   "cell_type": "code",
   "execution_count": null,
   "metadata": {},
   "outputs": [],
   "source": []
  },
  {
   "cell_type": "code",
   "execution_count": 58,
   "metadata": {},
   "outputs": [],
   "source": [
    "neighborOverall = []\n",
    "\n",
    "for district in neighbourData:\n",
    "    dId = districtId[district]\n",
    "    if dId in casesOverall:\n",
    "        for overall in casesOverall[dId]:\n",
    "            cases = []\n",
    "            for neighbor in neighbourData[district]:\n",
    "                if neighbor in districtId:\n",
    "                    if districtId[neighbor] in casesOverall:\n",
    "                        if overall in casesOverall[districtId[neighbor]]:\n",
    "                            cases.append(int(casesOverall[districtId[neighbor]][overall]))\n",
    "            mean = 0\n",
    "            stdev = 0\n",
    "            if(len(cases)):\n",
    "                mean = sum(cases) / len(cases) \n",
    "                variance = sum([((x - mean) ** 2) for x in cases]) / len(cases) \n",
    "                stdev = variance ** 0.5\n",
    "                \n",
    "            neighborOverall.append({'districtid':dId ,'timeid': overall,'neighbormean': round(mean, 2),'neighborstdev': round(stdev, 2)})\n",
    "            "
   ]
  },
  {
   "cell_type": "code",
   "execution_count": 59,
   "metadata": {},
   "outputs": [],
   "source": [
    "dfWeek = pd.DataFrame(neighborWeek) \n",
    "dfWeek.to_csv (r'neighbor-week.csv', index = False, header=True)"
   ]
  },
  {
   "cell_type": "code",
   "execution_count": 60,
   "metadata": {},
   "outputs": [],
   "source": [
    "dfMonth = pd.DataFrame(neighborMonth) \n",
    "dfMonth.to_csv (r'neighbor-month.csv', index = False, header=True)"
   ]
  },
  {
   "cell_type": "code",
   "execution_count": 61,
   "metadata": {},
   "outputs": [],
   "source": [
    "dfOverall = pd.DataFrame(neighborOverall) \n",
    "dfOverall.to_csv (r'neighbor-overall.csv', index = False, header=True)"
   ]
  },
  {
   "cell_type": "code",
   "execution_count": null,
   "metadata": {},
   "outputs": [],
   "source": []
  },
  {
   "cell_type": "code",
   "execution_count": null,
   "metadata": {},
   "outputs": [],
   "source": []
  },
  {
   "cell_type": "code",
   "execution_count": null,
   "metadata": {},
   "outputs": [],
   "source": []
  },
  {
   "cell_type": "code",
   "execution_count": null,
   "metadata": {},
   "outputs": [],
   "source": []
  },
  {
   "cell_type": "code",
   "execution_count": null,
   "metadata": {},
   "outputs": [],
   "source": []
  },
  {
   "cell_type": "code",
   "execution_count": null,
   "metadata": {},
   "outputs": [],
   "source": []
  },
  {
   "cell_type": "code",
   "execution_count": null,
   "metadata": {},
   "outputs": [],
   "source": []
  },
  {
   "cell_type": "code",
   "execution_count": null,
   "metadata": {},
   "outputs": [],
   "source": []
  },
  {
   "cell_type": "code",
   "execution_count": null,
   "metadata": {},
   "outputs": [],
   "source": []
  }
 ],
 "metadata": {
  "kernelspec": {
   "display_name": "Python 3",
   "language": "python",
   "name": "python3"
  },
  "language_info": {
   "codemirror_mode": {
    "name": "ipython",
    "version": 3
   },
   "file_extension": ".py",
   "mimetype": "text/x-python",
   "name": "python",
   "nbconvert_exporter": "python",
   "pygments_lexer": "ipython3",
   "version": "3.7.6"
  }
 },
 "nbformat": 4,
 "nbformat_minor": 4
}
