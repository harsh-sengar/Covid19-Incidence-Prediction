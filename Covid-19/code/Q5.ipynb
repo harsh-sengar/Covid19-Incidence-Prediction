{
 "cells": [
  {
   "cell_type": "code",
   "execution_count": 100,
   "metadata": {},
   "outputs": [],
   "source": [
    "import json\n",
    "import numpy as np\n",
    "import pandas as pd\n",
    "from difflib import SequenceMatcher\n",
    "from collections import OrderedDict \n",
    "import requests \n",
    "import csv\n",
    "\n",
    "f = open('data-all.json') \n",
    "dataAll = json.load(f) "
   ]
  },
  {
   "cell_type": "code",
   "execution_count": 101,
   "metadata": {},
   "outputs": [],
   "source": [
    "reader = csv.DictReader(open('district-id.csv'))\n",
    "\n",
    "districtId = {}\n",
    "for row in reader:\n",
    "    key = row.pop('districtname')\n",
    "    districtId[key[:key.index('/')]] = list(row.values())[0]\n"
   ]
  },
  {
   "cell_type": "code",
   "execution_count": 102,
   "metadata": {},
   "outputs": [],
   "source": [
    "covidDistrictId = {}\n",
    "a = {}\n",
    "for state in dataAll['2020-09-05']:\n",
    "    covidDistrictId[state] = {}\n",
    "    if \"districts\" in dataAll['2020-09-05'][state]:\n",
    "        for district in dataAll['2020-09-05'][state][\"districts\"]:\n",
    "            if district in districtId:\n",
    "                covidDistrictId[state][districtId[district]] = district\n",
    "                a[district+state] = districtId[district]"
   ]
  },
  {
   "cell_type": "code",
   "execution_count": 103,
   "metadata": {},
   "outputs": [],
   "source": [
    "del covidDistrictId['UP']['313']\n",
    "del covidDistrictId['BR']['132'] \n",
    "del covidDistrictId['CT']['185']\n",
    "del covidDistrictId['UP']['565']\n",
    "del covidDistrictId['CT']['146']\n",
    "covidDistrictId['UP']['312'] = 'Hamirpur'\n",
    "covidDistrictId['BR']['131'] = 'Aurangabad'\n",
    "covidDistrictId['CT']['184'] = 'Bilaspur'\n",
    "covidDistrictId['UP']['564'] = 'Pratapgarh'\n",
    "covidDistrictId['CT']['145'] = 'Balrampur'"
   ]
  },
  {
   "cell_type": "code",
   "execution_count": 104,
   "metadata": {},
   "outputs": [],
   "source": [
    "reader = csv.DictReader(open('district-id.csv'))\n",
    "districtId = {}\n",
    "for row in reader:\n",
    "    key = row.pop('districtname')\n",
    "    districtId[key] = list(row.values())[0]"
   ]
  },
  {
   "cell_type": "code",
   "execution_count": 105,
   "metadata": {},
   "outputs": [],
   "source": [
    "covidSate = {}\n",
    "for state in covidDistrictId:\n",
    "    for dId in covidDistrictId[state]:\n",
    "        covidSate[dId] = state"
   ]
  },
  {
   "cell_type": "code",
   "execution_count": 106,
   "metadata": {},
   "outputs": [],
   "source": [
    "casesWeek = {}\n",
    "reader = csv.DictReader(open('cases-week.csv')) \n",
    "for row in reader:\n",
    "    key = row.pop('districtid')\n",
    "    if(key not in (casesWeek)):\n",
    "        casesWeek[key] = {}\n",
    "    casesWeek[key][list(row.values())[0]] = list(row.values())[1] \n",
    "\n",
    "casesMonth = {}\n",
    "reader = csv.DictReader(open('cases-month.csv')) \n",
    "for row in reader:\n",
    "    key = row.pop('districtid')\n",
    "\n",
    "    if(key not in (casesMonth)):\n",
    "        casesMonth[key] = {}\n",
    "    casesMonth[key][list(row.values())[0]] = list(row.values())[1] \n",
    "    \n",
    "casesOverall = {}\n",
    "reader = csv.DictReader(open('cases-overall.csv')) \n",
    "for row in reader:\n",
    "    key = row.pop('districtid')\n",
    "    if(key not in (casesOverall)):\n",
    "        casesOverall[key] = {}\n",
    "    casesOverall[key][list(row.values())[0]] = list(row.values())[1] \n",
    "    \n"
   ]
  },
  {
   "cell_type": "code",
   "execution_count": 107,
   "metadata": {},
   "outputs": [
    {
     "data": {
      "text/plain": [
       "647"
      ]
     },
     "execution_count": 107,
     "metadata": {},
     "output_type": "execute_result"
    }
   ],
   "source": [
    "len(districtId)"
   ]
  },
  {
   "cell_type": "code",
   "execution_count": 108,
   "metadata": {},
   "outputs": [],
   "source": [
    "districtStateWeek = []\n",
    "\n",
    "for dId in districtId.values():\n",
    "    if dId in casesWeek:\n",
    "        for week in casesWeek[dId]:\n",
    "            state = covidSate[dId]\n",
    "            cases = []\n",
    "            for district in covidDistrictId[state]:\n",
    "                if district != dId:\n",
    "                    if district in casesWeek:\n",
    "                        if week in casesWeek[district]:\n",
    "                                    cases.append(int(casesWeek[district][week]))\n",
    "            mean = 0\n",
    "            stdev = 0\n",
    "            if(len(cases)):\n",
    "                mean = sum(cases) / len(cases) \n",
    "                variance = sum([((x - mean) ** 2) for x in cases]) / len(cases) \n",
    "                stdev = variance ** 0.5\n",
    "                \n",
    "            districtStateWeek.append({'districtid':dId ,'timeid': week,'statemean': round(mean, 2),'statestdev': round(stdev, 2)})"
   ]
  },
  {
   "cell_type": "code",
   "execution_count": 109,
   "metadata": {},
   "outputs": [],
   "source": [
    "districtStateMonth = []\n",
    "\n",
    "for dId in districtId.values():\n",
    "    if dId in casesMonth:\n",
    "        for month in casesMonth[dId]:\n",
    "            state = covidSate[dId]\n",
    "            cases = []\n",
    "            for district in covidDistrictId[state]:\n",
    "                if district != dId:\n",
    "                    if district in casesMonth:\n",
    "                        if month in casesMonth[district]:\n",
    "                                    cases.append(int(casesMonth[district][month]))\n",
    "            mean = 0\n",
    "            stdev = 0\n",
    "            if(len(cases)):\n",
    "                mean = sum(cases) / len(cases) \n",
    "                variance = sum([((x - mean) ** 2) for x in cases]) / len(cases) \n",
    "                stdev = variance ** 0.5\n",
    "                \n",
    "            districtStateMonth.append({'districtid':dId ,'timeid': month,'statemean': round(mean, 2),'statestdev': round(stdev, 2)})"
   ]
  },
  {
   "cell_type": "code",
   "execution_count": 110,
   "metadata": {},
   "outputs": [],
   "source": [
    "districtStateOverall = []\n",
    "\n",
    "for dId in districtId.values():\n",
    "    if dId in casesOverall:\n",
    "        for overall in casesOverall[dId]:\n",
    "            state = covidSate[dId]\n",
    "            cases = []\n",
    "            for district in covidDistrictId[state]:\n",
    "                if district != dId:\n",
    "                    if district in casesOverall:\n",
    "                        if overall in casesOverall[district]:\n",
    "                                    cases.append(int(casesOverall[district][overall]))\n",
    "            mean = 0\n",
    "            stdev = 0\n",
    "            if(len(cases)):\n",
    "                mean = sum(cases) / len(cases) \n",
    "                variance = sum([((x - mean) ** 2) for x in cases]) / len(cases) \n",
    "                stdev = variance ** 0.5\n",
    "                \n",
    "            districtStateOverall.append({'districtid':dId ,'timeid': overall,'statemean': round(mean, 2),'statestdev': round(stdev, 2)})"
   ]
  },
  {
   "cell_type": "code",
   "execution_count": null,
   "metadata": {},
   "outputs": [],
   "source": []
  },
  {
   "cell_type": "code",
   "execution_count": null,
   "metadata": {},
   "outputs": [],
   "source": []
  },
  {
   "cell_type": "code",
   "execution_count": null,
   "metadata": {},
   "outputs": [],
   "source": []
  },
  {
   "cell_type": "code",
   "execution_count": 111,
   "metadata": {},
   "outputs": [],
   "source": [
    "dfWeek = pd.DataFrame(districtStateWeek) \n",
    "dfWeek.to_csv (r'state-week.csv', index = False, header=True)"
   ]
  },
  {
   "cell_type": "code",
   "execution_count": 112,
   "metadata": {},
   "outputs": [],
   "source": [
    "dfMonth = pd.DataFrame(districtStateMonth) \n",
    "dfMonth.to_csv (r'state-month.csv', index = False, header=True)"
   ]
  },
  {
   "cell_type": "code",
   "execution_count": 113,
   "metadata": {},
   "outputs": [],
   "source": [
    "dfOverall = pd.DataFrame(districtStateOverall) \n",
    "dfOverall.to_csv (r'state-overall.csv', index = False, header=True)"
   ]
  },
  {
   "cell_type": "code",
   "execution_count": null,
   "metadata": {},
   "outputs": [],
   "source": []
  },
  {
   "cell_type": "code",
   "execution_count": null,
   "metadata": {},
   "outputs": [],
   "source": []
  },
  {
   "cell_type": "code",
   "execution_count": null,
   "metadata": {},
   "outputs": [],
   "source": []
  }
 ],
 "metadata": {
  "kernelspec": {
   "display_name": "Python 3",
   "language": "python",
   "name": "python3"
  },
  "language_info": {
   "codemirror_mode": {
    "name": "ipython",
    "version": 3
   },
   "file_extension": ".py",
   "mimetype": "text/x-python",
   "name": "python",
   "nbconvert_exporter": "python",
   "pygments_lexer": "ipython3",
   "version": "3.7.6"
  }
 },
 "nbformat": 4,
 "nbformat_minor": 4
}
