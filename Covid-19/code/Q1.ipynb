{
 "cells": [
  {
   "cell_type": "code",
   "execution_count": 75,
   "metadata": {},
   "outputs": [],
   "source": [
    "import json\n",
    "import numpy as np\n",
    "import pandas as pd\n",
    "from difflib import SequenceMatcher\n",
    "from collections import OrderedDict \n",
    "import requests \n",
    "\n",
    "f = open('neighbor-districts.json') \n",
    "neighbourData = json.load(f) \n",
    "f1 = open('data-all.json') \n",
    "dataAll = json.load(f1) "
   ]
  },
  {
   "cell_type": "code",
   "execution_count": 76,
   "metadata": {},
   "outputs": [
    {
     "data": {
      "text/plain": [
       "723"
      ]
     },
     "execution_count": 76,
     "metadata": {},
     "output_type": "execute_result"
    }
   ],
   "source": []
  },
  {
   "cell_type": "code",
   "execution_count": null,
   "metadata": {},
   "outputs": [],
   "source": []
  },
  {
   "cell_type": "code",
   "execution_count": 70,
   "metadata": {},
   "outputs": [],
   "source": [
    "response = requests.get(\"https://api.covid19india.org/state_district_wise.json\")"
   ]
  },
  {
   "cell_type": "code",
   "execution_count": 66,
   "metadata": {},
   "outputs": [],
   "source": [
    "covidDistrictId = []\n",
    "for state in dataAll['2020-09-05']:\n",
    "    if \"districts\" in dataAll['2020-09-05'][state]:\n",
    "        for district in dataAll['2020-09-05'][state][\"districts\"]:\n",
    "                covidDistrictId.append(district)"
   ]
  },
  {
   "cell_type": "code",
   "execution_count": 68,
   "metadata": {},
   "outputs": [
    {
     "data": {
      "text/plain": [
       "653"
      ]
     },
     "execution_count": 68,
     "metadata": {},
     "output_type": "execute_result"
    }
   ],
   "source": []
  },
  {
   "cell_type": "code",
   "execution_count": null,
   "metadata": {},
   "outputs": [],
   "source": [
    "def getDistrict(json_data):\n",
    "    district = []\n",
    "    for key, value in json_data.items():\n",
    "        district = district + list(value['districtData'].keys())\n",
    "    return district\n",
    "       \n",
    "json_data = json.loads(response.text)\n",
    "districts = getDistrict(json_data)"
   ]
  },
  {
   "cell_type": "code",
   "execution_count": 44,
   "metadata": {},
   "outputs": [],
   "source": [
    "def removeOccurences(var,districts):\n",
    "    i = 0\n",
    "    length = len(districts)\n",
    "    while(i<length):\n",
    "        if(districts[i]==var):\n",
    "            districts.remove(districts[i])\n",
    "            length = length -1  \n",
    "            continue\n",
    "        i = i+1\n",
    "    return districts"
   ]
  },
  {
   "cell_type": "code",
   "execution_count": 45,
   "metadata": {},
   "outputs": [],
   "source": [
    "districts = removeOccurences('Unknown',districts)\n",
    "districts = removeOccurences('Other State',districts)\n",
    "districts = removeOccurences('Unassigned',districts)\n",
    "districts = removeOccurences('Others',districts)\n",
    "districts = removeOccurences('Railway Quarantine',districts)\n",
    "districts = removeOccurences('Airport Quarantine',districts)\n",
    "districts = removeOccurences('Foreign Evacuees',districts)\n"
   ]
  },
  {
   "cell_type": "code",
   "execution_count": 46,
   "metadata": {},
   "outputs": [],
   "source": [
    "def similar(a, b):\n",
    "    return SequenceMatcher(None, a, b).ratio()"
   ]
  },
  {
   "cell_type": "code",
   "execution_count": null,
   "metadata": {},
   "outputs": [],
   "source": []
  },
  {
   "cell_type": "code",
   "execution_count": 47,
   "metadata": {},
   "outputs": [],
   "source": [
    "def getDistrict(districts,data):\n",
    "    district_final = {}\n",
    "\n",
    "    for district_covid in districts:\n",
    "        district_new = []\n",
    "        for district in data:\n",
    "            district_temp = district.replace(\"_\", \" \")\n",
    "            if(similar(district_temp.lower(),(district_covid.lower()))>0.24 and district_temp.lower().startswith(district_covid.lower()[0:])):\n",
    "                district_new.append(district)\n",
    "\n",
    "            elif(similar(district_temp.lower(),(district_covid.lower()))>0.5 and district_temp.lower().startswith(district_covid.lower()[0:13])):\n",
    "                district_new.append(district)\n",
    "\n",
    "        if(len(district_new)):\n",
    "               district_final[district_covid + district_new[0][district_new[0].index('/'):]]=  district_new\n",
    "            \n",
    "    return district_final\n"
   ]
  },
  {
   "cell_type": "code",
   "execution_count": 48,
   "metadata": {},
   "outputs": [],
   "source": [
    "def neighbourJsonToCovidDistrict(covid_district):\n",
    "    district_final = {}\n",
    "    for district in covid_district:\n",
    "        districts = covid_district[district]\n",
    "        for d in districts:\n",
    "            district_final[d] = district\n",
    "    return district_final"
   ]
  },
  {
   "cell_type": "code",
   "execution_count": 49,
   "metadata": {},
   "outputs": [],
   "source": [
    "def updateNeighbourJson(neighbourData, covidDistrict, NeighbourDistrict):\n",
    "    neighborDistrictsModified = {}\n",
    "    for district in neighbourData:\n",
    "        if district in NeighbourDistrict and len(district): # means District exits in covid portal corresponding to this district of neighbour.json file\n",
    "            for neighbour in neighbourData[district]: # running through all the neighbours \n",
    "                if neighbour in NeighbourDistrict:  # checking neighbour exist in covid portal district or not \n",
    "                    if NeighbourDistrict[district] in (neighborDistrictsModified) and len(NeighbourDistrict[district]): # check district already exits or not in case of merge\n",
    "                          neighborDistrictsModified[NeighbourDistrict[district]] = neighborDistrictsModified[NeighbourDistrict[district]] + [NeighbourDistrict[neighbour]]\n",
    "                    elif len(NeighbourDistrict[district]):\n",
    "                        neighborDistrictsModified[NeighbourDistrict[district]] = [NeighbourDistrict[neighbour]]\n",
    "            \n",
    "    return neighborDistrictsModified"
   ]
  },
  {
   "cell_type": "code",
   "execution_count": 50,
   "metadata": {},
   "outputs": [],
   "source": [
    "covidDistrict = getDistrict(districts,neighbourData)\n",
    "NeighbourDistrict = neighbourJsonToCovidDistrict(covidDistrict)"
   ]
  },
  {
   "cell_type": "code",
   "execution_count": 51,
   "metadata": {},
   "outputs": [],
   "source": [
    "NeighbourDistrict['krishna/Q15382'] = 'Krishna/Q15382'\n",
    "NeighbourDistrict['aurangabad/Q592942'] = 'Aurangabad/Q592942'\n",
    "NeighbourDistrict['balrampur/Q16056268'] = 'Balrampur/Q16056268'\n",
    "NeighbourDistrict['bijapur_district/Q1727570'] = ''\n",
    "NeighbourDistrict['bilaspur/Q100157'] = 'Bilaspur/Q100157'\n",
    "NeighbourDistrict['hamirpur/Q2019757'] = 'Hamirpur/Q2019757'\n",
    "NeighbourDistrict['dharmapuri_district/Q15152'] = 'Dharmapuri/Q15152'\n",
    "NeighbourDistrict['dhar/Q2299069'] = 'Dhar/Q2299069'\n",
    "NeighbourDistrict['dharwad_district/Q1790904'] =  'Dharwad/Q1790904'\n",
    "NeighbourDistrict['rewari/Q2301759'] = 'Rewari/Q2301759'\n",
    "NeighbourDistrict['rewa/Q526862'] = 'Rewa/Q526862'\n",
    "NeighbourDistrict['mahendragarh/Q684019'] =  'Mahendragarh/Q684019'\n",
    "NeighbourDistrict['mahe_district/Q639279'] = 'Mahe/Q639279'\n",
    "NeighbourDistrict['pratapgarh/Q1473962'] = 'Pratapgarh/Q1473962'\n",
    "NeighbourDistrict['mahesana_district/Q2019694'] = ''\n",
    "NeighbourDistrict['bangalore_urban/Q806463'] = 'Bengaluru Urban/Q806463'\n",
    "NeighbourDistrict['bangalore_rural/Q806464'] = 'Bengaluru Rural/Q806464'\n",
    "NeighbourDistrict['faizabad/Q1814132'] = 'Ayodhya/Q1814132'\n",
    "NeighbourDistrict['jyotiba_phule_nagar/Q1891677'] = 'Amroha/Q1891677'\n",
    "NeighbourDistrict['sant_ravidas_nagar/Q127533'] = 'Bhadohi/Q127533'\n",
    "NeighbourDistrict['bijapur_district/Q1727570'] = 'Vijayapura/Q1727570'\n",
    "NeighbourDistrict['palghat/Q1535742'] = 'Palakkad/Q1535742'"
   ]
  },
  {
   "cell_type": "code",
   "execution_count": 52,
   "metadata": {},
   "outputs": [],
   "source": [
    "neighborDistrictsModified = updateNeighbourJson(neighbourData, covidDistrict, NeighbourDistrict)\n"
   ]
  },
  {
   "cell_type": "code",
   "execution_count": 53,
   "metadata": {},
   "outputs": [],
   "source": [
    "neighborDistrictsModified = OrderedDict(sorted(neighborDistrictsModified.items())) "
   ]
  },
  {
   "cell_type": "code",
   "execution_count": 54,
   "metadata": {},
   "outputs": [],
   "source": [
    "with open('neighbor-districts-modified.json', 'w', encoding='utf-8') as f:\n",
    "    json.dump(neighborDistrictsModified, f, ensure_ascii=False, indent=4)\n"
   ]
  },
  {
   "cell_type": "code",
   "execution_count": 55,
   "metadata": {},
   "outputs": [],
   "source": [
    "df = pd.DataFrame(list((neighborDistrictsModified.keys())),columns = [ 'districtname'])\n",
    "df.index = df.index + 101\n"
   ]
  },
  {
   "cell_type": "code",
   "execution_count": 56,
   "metadata": {},
   "outputs": [],
   "source": [
    "df.insert(1, \"districtid\", df.index, True) \n"
   ]
  },
  {
   "cell_type": "code",
   "execution_count": 57,
   "metadata": {},
   "outputs": [],
   "source": [
    "df.to_csv (r'district-id.csv', index = False, header=True)"
   ]
  },
  {
   "cell_type": "code",
   "execution_count": null,
   "metadata": {},
   "outputs": [],
   "source": []
  },
  {
   "cell_type": "code",
   "execution_count": null,
   "metadata": {},
   "outputs": [],
   "source": []
  },
  {
   "cell_type": "code",
   "execution_count": null,
   "metadata": {},
   "outputs": [],
   "source": []
  },
  {
   "cell_type": "code",
   "execution_count": null,
   "metadata": {},
   "outputs": [],
   "source": []
  }
 ],
 "metadata": {
  "kernelspec": {
   "display_name": "Python 3",
   "language": "python",
   "name": "python3"
  },
  "language_info": {
   "codemirror_mode": {
    "name": "ipython",
    "version": 3
   },
   "file_extension": ".py",
   "mimetype": "text/x-python",
   "name": "python",
   "nbconvert_exporter": "python",
   "pygments_lexer": "ipython3",
   "version": "3.7.6"
  }
 },
 "nbformat": 4,
 "nbformat_minor": 4
}
